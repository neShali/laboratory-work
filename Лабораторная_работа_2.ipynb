{
  "nbformat": 4,
  "nbformat_minor": 0,
  "metadata": {
    "colab": {
      "provenance": [],
      "authorship_tag": "ABX9TyNxpBuRYzKyUJpzFyyo6uB0",
      "include_colab_link": true
    },
    "kernelspec": {
      "name": "python3",
      "display_name": "Python 3"
    },
    "language_info": {
      "name": "python"
    }
  },
  "cells": [
    {
      "cell_type": "markdown",
      "metadata": {
        "id": "view-in-github",
        "colab_type": "text"
      },
      "source": [
        "<a href=\"https://colab.research.google.com/github/neShali/laboratory-work/blob/main/%D0%9B%D0%B0%D0%B1%D0%BE%D1%80%D0%B0%D1%82%D0%BE%D1%80%D0%BD%D0%B0%D1%8F_%D1%80%D0%B0%D0%B1%D0%BE%D1%82%D0%B0_2.ipynb\" target=\"_parent\"><img src=\"https://colab.research.google.com/assets/colab-badge.svg\" alt=\"Open In Colab\"/></a>"
      ]
    },
    {
      "cell_type": "code",
      "execution_count": 24,
      "metadata": {
        "colab": {
          "base_uri": "https://localhost:8080/"
        },
        "id": "O_rY0NF1_v3i",
        "outputId": "b1d9b42f-3cf0-4bb0-9c8e-b35b73fd1935"
      },
      "outputs": [
        {
          "output_type": "stream",
          "name": "stdout",
          "text": [
            "Введите название товара \n",
            "*чтобы закончить введите пустое значение \n",
            "марковь\n",
            "Введите название товара \n",
            "*чтобы закончить введите пустое значение \n",
            "картоха\n",
            "Введите название товара \n",
            "*чтобы закончить введите пустое значение \n",
            "\n",
            "Введите цену на товар марковь в магазине пятерочка\n",
            "20\n",
            "Введите цену на товар марковь в магазине магнит\n",
            "20\n",
            "Введите цену на товар марковь в магазине перекресток\n",
            "2\n",
            "Введите цену на товар картоха в магазине пятерочка\n",
            "3\n",
            "Введите цену на товар картоха в магазине магнит\n",
            "4\n",
            "Введите цену на товар картоха в магазине перекресток\n",
            "5\n",
            "Стоимость корзины в магазине пятерочка: 23\n",
            "Стоимость корзины в магазине магнит: 24\n",
            "Стоимость корзины в магазине перекресток: 7\n",
            "Минимальная цена в магазине перекресток\n"
          ]
        }
      ],
      "source": [
        "goods = []\n",
        "shops = ['пятерочка', 'магнит', 'перекресток']\n",
        "costs = []\n",
        "enter_goods = True\n",
        "while enter_goods:\n",
        "  good_input = input(f\"Введите название товара \\n*чтобы закончить введите пустое значение \\n\")\n",
        "  if good_input != \"\":\n",
        "    goods.append(good_input)\n",
        "  else:\n",
        "    enter_goods = False\n",
        "\n",
        "for good in goods:\n",
        "  goods_cost = []\n",
        "  for shop in shops:\n",
        "    price = int(input(f\"Введите цену на товар {good} в магазине {shop}\\n\"))\n",
        "    goods_cost.append(price)\n",
        "  costs.append(goods_cost)\n",
        "\n",
        "basket = []\n",
        "for count, value in enumerate(shops):\n",
        "  total = 0\n",
        "  for index, product in enumerate(goods):\n",
        "    total += costs[index][count]\n",
        "  print(f'Стоимость корзины в магазине {value}: {total}')\n",
        "  basket.append(total)\n",
        "min_index = 0\n",
        "min_value = 0\n",
        "for index, value in enumerate(basket):\n",
        "  if value < min_value or min_value == 0:\n",
        "    min_index = index\n",
        "    min_value = value\n",
        "print(f\"Минимальная цена в магазине {shops[min_index]}\")\n",
        "\n",
        "\n",
        "\n",
        "\n",
        "\n"
      ]
    }
  ]
}